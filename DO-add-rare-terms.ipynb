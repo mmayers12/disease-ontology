{
 "cells": [
  {
   "cell_type": "code",
   "execution_count": 1,
   "metadata": {
    "collapsed": true
   },
   "outputs": [],
   "source": [
    "import os\n",
    "import csv\n",
    "import re\n",
    "\n",
    "import urllib.request\n",
    "\n",
    "import networkx\n",
    "import pandas\n",
    "\n",
    "import pandas as pd\n",
    "\n",
    "\n",
    "import do_tools"
   ]
  },
  {
   "cell_type": "code",
   "execution_count": 4,
   "metadata": {},
   "outputs": [
    {
     "data": {
      "text/plain": [
       "('download/HumanDO.obo', <http.client.HTTPMessage at 0x7f8b9d09b048>)"
      ]
     },
     "execution_count": 4,
     "metadata": {},
     "output_type": "execute_result"
    }
   ],
   "source": [
    "base = 'https://raw.githubusercontent.com/DiseaseOntology/HumanDiseaseOntology/master/src/ontology/subsets/'\n",
    "files = ['DO_cancer_slim.obo', 'DO_rare_slim.obo', 'TopNodes_DOcancerslim.obo']\n",
    "\n",
    "for file in files:\n",
    "    urllib.request.urlretrieve(base+file, 'download/'+file)\n",
    "\n",
    "base = 'https://raw.githubusercontent.com/DiseaseOntology/HumanDiseaseOntology/master/src/ontology/'\n",
    "file = 'HumanDO.obo'\n",
    "urllib.request.urlretrieve(base+file, 'download/'+file);"
   ]
  },
  {
   "cell_type": "code",
   "execution_count": 2,
   "metadata": {
    "collapsed": true
   },
   "outputs": [],
   "source": [
    "path = os.path.join('download', 'HumanDO.obo')\n",
    "do = do_tools.load_do(path)\n",
    "dox = do_tools.do_to_networkx(do)"
   ]
  },
  {
   "cell_type": "code",
   "execution_count": 3,
   "metadata": {
    "collapsed": true
   },
   "outputs": [],
   "source": [
    "rdo = do_tools.load_do('download/DO_rare_slim.obo')"
   ]
  },
  {
   "cell_type": "code",
   "execution_count": null,
   "metadata": {
    "collapsed": true
   },
   "outputs": [],
   "source": [
    "slim = pd.read_table('data/slim-terms.tsv')\n",
    "rdo_ids = [x for x in rdo.terms.keys()]\n",
    "\n",
    "for doid in set(slim['doid']).intersection(set(rdo_ids)):\n",
    "    rdo_ids.remove(doid)"
   ]
  },
  {
   "cell_type": "code",
   "execution_count": 4,
   "metadata": {
    "collapsed": true
   },
   "outputs": [],
   "source": [
    "rdox = do_tools.do_to_networkx(rdo)"
   ]
  },
  {
   "cell_type": "code",
   "execution_count": 24,
   "metadata": {},
   "outputs": [
    {
     "name": "stdout",
     "output_type": "stream",
     "text": [
      "DOID:0060670 : cerebral cavernous malformation 2 ----- DOID:0060669 : cerebral cavernous malformation\n",
      "DOID:0060371 : autosomal dominant Parkinson disease 8 ----- DOID:14330 : Parkinson's disease\n",
      "DOID:0060671 : cerebral cavernous malformation 3 ----- DOID:0060669 : cerebral cavernous malformation\n",
      "DOID:0060290 : blepharophimosis-intellectual disability syndrome, SBBYS type ----- DOID:0060289 : Ohdo syndrome\n",
      "DOID:0080182 : mixed fibrolamellar hepatocellular carcinoma ----- DOID:5015 : fibrolamellar carcinoma\n",
      "DOID:3132 : porphyria cutanea tarda ----- DOID:3133 : acute porphyria\n",
      "DOID:0060705 : X-linked lymphoproliferative syndrome 1 ----- DOID:0060704 : lymphoproliferative syndrome\n",
      "DOID:0060438 : Cole-Carpenter syndrome ----- DOID:12347 : osteogenesis imperfecta\n",
      "DOID:0080174 : bladder exstrophy ----- DOID:0080173 : bladder exstrophy-epispadias-cloacal exstrophy complex\n",
      "DOID:0060706 : X-linked lymphoproliferative syndrome 2 ----- DOID:0060704 : lymphoproliferative syndrome\n",
      "DOID:0060368 : autosomal recessive juvenile Parkinson disease 2 ----- DOID:14330 : Parkinson's disease\n",
      "DOID:0050661 : vitelliform macular dystrophy ----- DOID:4448 : macular degeneration\n",
      "DOID:13270 : erythropoietic protoporphyria ----- DOID:3133 : acute porphyria\n",
      "DOID:0060376 : Joubert syndrome with orofaciodigital defect ----- DOID:0050777 : Joubert syndrome\n",
      "DOID:0060367 : autosomal dominant Parkinson disease 1 ----- DOID:14330 : Parkinson's disease\n",
      "DOID:0060707 : lymphoproliferative syndrome 1 ----- DOID:0060704 : lymphoproliferative syndrome\n",
      "DOID:0060684 : autosomal dominant nocturnal frontal lobe epilepsy 3 ----- DOID:0060681 : autosomal dominant nocturnal frontal lobe epilepsy\n",
      "DOID:3774 : chordoid glioma ----- DOID:3070 : malignant glioma\n",
      "DOID:0060696 : hyperekplexia 1 ----- DOID:0060695 : hyperekplexia\n",
      "DOID:0060682 : autosomal dominant nocturnal frontal lobe epilepsy 1 ----- DOID:0060681 : autosomal dominant nocturnal frontal lobe epilepsy\n",
      "DOID:0060242 : synpolydactyly ----- DOID:11193 : syndactyly\n",
      "DOID:0060685 : autosomal dominant nocturnal frontal lobe epilepsy 4 ----- DOID:0060681 : autosomal dominant nocturnal frontal lobe epilepsy\n",
      "DOID:0060686 : autosomal dominant nocturnal frontal lobe epilepsy 5 ----- DOID:0060681 : autosomal dominant nocturnal frontal lobe epilepsy\n",
      "DOID:4152 : chondroid chordoma ----- DOID:3302 : chordoma\n",
      "DOID:0060683 : autosomal dominant nocturnal frontal lobe epilepsy 2 ----- DOID:0060681 : autosomal dominant nocturnal frontal lobe epilepsy\n",
      "DOID:3773 : third ventricle chordoid glioma ----- DOID:3774 : chordoid glioma\n",
      "DOID:0060370 : autosomal recessive early-onset Parkinson disease 7 ----- DOID:14330 : Parkinson's disease\n",
      "DOID:0060698 : hyperekplexia 3 ----- DOID:0060695 : hyperekplexia\n",
      "DOID:0060703 : Muenke Syndrome ----- DOID:2340 : craniosynostosis\n",
      "DOID:0060372 : autosomal recessive early-onset Parkinson disease 15 ----- DOID:14330 : Parkinson's disease\n",
      "DOID:0060697 : hyperekplexia 2 ----- DOID:0060695 : hyperekplexia\n",
      "DOID:0060708 : lymphoproliferative syndrome 2 ----- DOID:0060704 : lymphoproliferative syndrome\n",
      "DOID:0060369 : autosomal recessive early-onset Parkinson disease 6 ----- DOID:14330 : Parkinson's disease\n",
      "DOID:0060362 : punctate palmoplantar keratoderma type III ----- DOID:0060361 : punctate palmoplantar keratoderma\n",
      "DOID:0050588 : muscular dystrophy-dystroglycanopathy ----- DOID:0050557 : congenital muscular dystrophy\n"
     ]
    }
   ],
   "source": [
    "for edge in rdox.edges():\n",
    "    print(edge[0].id , ':', edge[0].name, '-----', edge[1].id , ':', edge[1].name)"
   ]
  },
  {
   "cell_type": "markdown",
   "metadata": {},
   "source": [
    "just going to keep the more general of the two terms..."
   ]
  },
  {
   "cell_type": "code",
   "execution_count": 38,
   "metadata": {},
   "outputs": [],
   "source": [
    "for edge in rdox.edges():\n",
    "    rdo_ids.remove(edge[0].id)"
   ]
  },
  {
   "cell_type": "code",
   "execution_count": 39,
   "metadata": {},
   "outputs": [
    {
     "data": {
      "text/plain": [
       "467"
      ]
     },
     "execution_count": 39,
     "metadata": {},
     "output_type": "execute_result"
    }
   ],
   "source": [
    "len(rdo_ids)"
   ]
  },
  {
   "cell_type": "code",
   "execution_count": 40,
   "metadata": {
    "collapsed": true
   },
   "outputs": [],
   "source": [
    "rdo_names = [rdo[doid].name for doid in rdo_ids]"
   ]
  },
  {
   "cell_type": "code",
   "execution_count": 42,
   "metadata": {},
   "outputs": [
    {
     "data": {
      "text/html": [
       "<div>\n",
       "<style>\n",
       "    .dataframe thead tr:only-child th {\n",
       "        text-align: right;\n",
       "    }\n",
       "\n",
       "    .dataframe thead th {\n",
       "        text-align: left;\n",
       "    }\n",
       "\n",
       "    .dataframe tbody tr th {\n",
       "        vertical-align: top;\n",
       "    }\n",
       "</style>\n",
       "<table border=\"1\" class=\"dataframe\">\n",
       "  <thead>\n",
       "    <tr style=\"text-align: right;\">\n",
       "      <th></th>\n",
       "      <th>doid</th>\n",
       "      <th>name</th>\n",
       "      <th>source</th>\n",
       "      <th>pathophysiology</th>\n",
       "    </tr>\n",
       "  </thead>\n",
       "  <tbody>\n",
       "    <tr>\n",
       "      <th>0</th>\n",
       "      <td>DOID:2531</td>\n",
       "      <td>hematologic cancer</td>\n",
       "      <td>DOcancerslim</td>\n",
       "      <td>neoplastic</td>\n",
       "    </tr>\n",
       "    <tr>\n",
       "      <th>1</th>\n",
       "      <td>DOID:1319</td>\n",
       "      <td>brain cancer</td>\n",
       "      <td>DOcancerslim</td>\n",
       "      <td>neoplastic</td>\n",
       "    </tr>\n",
       "  </tbody>\n",
       "</table>\n",
       "</div>"
      ],
      "text/plain": [
       "        doid                name        source pathophysiology\n",
       "0  DOID:2531  hematologic cancer  DOcancerslim      neoplastic\n",
       "1  DOID:1319        brain cancer  DOcancerslim      neoplastic"
      ]
     },
     "execution_count": 42,
     "metadata": {},
     "output_type": "execute_result"
    }
   ],
   "source": [
    "slim.head(2)"
   ]
  },
  {
   "cell_type": "code",
   "execution_count": 43,
   "metadata": {},
   "outputs": [
    {
     "data": {
      "text/html": [
       "<div>\n",
       "<style>\n",
       "    .dataframe thead tr:only-child th {\n",
       "        text-align: right;\n",
       "    }\n",
       "\n",
       "    .dataframe thead th {\n",
       "        text-align: left;\n",
       "    }\n",
       "\n",
       "    .dataframe tbody tr th {\n",
       "        vertical-align: top;\n",
       "    }\n",
       "</style>\n",
       "<table border=\"1\" class=\"dataframe\">\n",
       "  <thead>\n",
       "    <tr style=\"text-align: right;\">\n",
       "      <th></th>\n",
       "      <th>doid</th>\n",
       "      <th>name</th>\n",
       "      <th>source</th>\n",
       "    </tr>\n",
       "  </thead>\n",
       "  <tbody>\n",
       "    <tr>\n",
       "      <th>0</th>\n",
       "      <td>DOID:0060301</td>\n",
       "      <td>type I complement component 8 deficiency</td>\n",
       "      <td>DOrareslim</td>\n",
       "    </tr>\n",
       "    <tr>\n",
       "      <th>1</th>\n",
       "      <td>DOID:9563</td>\n",
       "      <td>bronchiectasis</td>\n",
       "      <td>DOrareslim</td>\n",
       "    </tr>\n",
       "    <tr>\n",
       "      <th>2</th>\n",
       "      <td>DOID:0060295</td>\n",
       "      <td>complement component 2 deficiency</td>\n",
       "      <td>DOrareslim</td>\n",
       "    </tr>\n",
       "    <tr>\n",
       "      <th>3</th>\n",
       "      <td>DOID:3652</td>\n",
       "      <td>Leigh disease</td>\n",
       "      <td>DOrareslim</td>\n",
       "    </tr>\n",
       "    <tr>\n",
       "      <th>4</th>\n",
       "      <td>DOID:10825</td>\n",
       "      <td>essential hypertension</td>\n",
       "      <td>DOrareslim</td>\n",
       "    </tr>\n",
       "  </tbody>\n",
       "</table>\n",
       "</div>"
      ],
      "text/plain": [
       "           doid                                      name      source\n",
       "0  DOID:0060301  type I complement component 8 deficiency  DOrareslim\n",
       "1     DOID:9563                            bronchiectasis  DOrareslim\n",
       "2  DOID:0060295         complement component 2 deficiency  DOrareslim\n",
       "3     DOID:3652                             Leigh disease  DOrareslim\n",
       "4    DOID:10825                    essential hypertension  DOrareslim"
      ]
     },
     "execution_count": 43,
     "metadata": {},
     "output_type": "execute_result"
    }
   ],
   "source": [
    "r_slim = pd.DataFrame()\n",
    "r_slim['doid'] = rdo_ids\n",
    "r_slim['name'] = rdo_names\n",
    "r_slim['source'] = 'DOrareslim'\n",
    "r_slim.head()"
   ]
  },
  {
   "cell_type": "code",
   "execution_count": 44,
   "metadata": {
    "collapsed": true
   },
   "outputs": [],
   "source": [
    "slim_out = pd.concat([slim, r_slim])"
   ]
  },
  {
   "cell_type": "code",
   "execution_count": 46,
   "metadata": {},
   "outputs": [],
   "source": [
    "slim_out = slim_out.fillna('undetermined')"
   ]
  },
  {
   "cell_type": "code",
   "execution_count": 47,
   "metadata": {
    "collapsed": true
   },
   "outputs": [],
   "source": [
    "slim_out.to_csv('data/slim-terms1.tsv', index=False, sep='\\t')"
   ]
  }
 ],
 "metadata": {
  "anaconda-cloud": {},
  "kernelspec": {
   "display_name": "Python 3",
   "language": "python",
   "name": "python3"
  },
  "language_info": {
   "codemirror_mode": {
    "name": "ipython",
    "version": 3
   },
   "file_extension": ".py",
   "mimetype": "text/x-python",
   "name": "python",
   "nbconvert_exporter": "python",
   "pygments_lexer": "ipython3",
   "version": "3.5.4"
  }
 },
 "nbformat": 4,
 "nbformat_minor": 1
}
