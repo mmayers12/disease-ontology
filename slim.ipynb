{
 "cells": [
  {
   "cell_type": "markdown",
   "metadata": {},
   "source": [
    "# Create useful datasets for DO Slim -- a non-redundant set of diseases"
   ]
  },
  {
   "cell_type": "code",
   "execution_count": 1,
   "metadata": {
    "collapsed": true
   },
   "outputs": [],
   "source": [
    "import os\n",
    "\n",
    "import pandas\n",
    "import networkx\n",
    "\n",
    "import do_tools"
   ]
  },
  {
   "cell_type": "code",
   "execution_count": 2,
   "metadata": {
    "collapsed": true
   },
   "outputs": [],
   "source": [
    "# read the disease ontology\n",
    "path = os.path.join('download', 'HumanDO.obo')\n",
    "do = do_tools.load_do(path)\n",
    "dox = do_tools.do_to_networkx(do)\n"
   ]
  },
  {
   "cell_type": "code",
   "execution_count": 3,
   "metadata": {},
   "outputs": [
    {
     "data": {
      "text/html": [
       "<div>\n",
       "<style>\n",
       "    .dataframe thead tr:only-child th {\n",
       "        text-align: right;\n",
       "    }\n",
       "\n",
       "    .dataframe thead th {\n",
       "        text-align: left;\n",
       "    }\n",
       "\n",
       "    .dataframe tbody tr th {\n",
       "        vertical-align: top;\n",
       "    }\n",
       "</style>\n",
       "<table border=\"1\" class=\"dataframe\">\n",
       "  <thead>\n",
       "    <tr style=\"text-align: right;\">\n",
       "      <th></th>\n",
       "      <th>doid</th>\n",
       "      <th>name</th>\n",
       "      <th>pathophysiology</th>\n",
       "      <th>source</th>\n",
       "    </tr>\n",
       "  </thead>\n",
       "  <tbody>\n",
       "    <tr>\n",
       "      <th>0</th>\n",
       "      <td>DOID:2531</td>\n",
       "      <td>hematologic cancer</td>\n",
       "      <td>neoplastic</td>\n",
       "      <td>DOcancerslim</td>\n",
       "    </tr>\n",
       "    <tr>\n",
       "      <th>1</th>\n",
       "      <td>DOID:1319</td>\n",
       "      <td>brain cancer</td>\n",
       "      <td>neoplastic</td>\n",
       "      <td>DOcancerslim</td>\n",
       "    </tr>\n",
       "    <tr>\n",
       "      <th>2</th>\n",
       "      <td>DOID:1324</td>\n",
       "      <td>lung cancer</td>\n",
       "      <td>neoplastic</td>\n",
       "      <td>DOcancerslim</td>\n",
       "    </tr>\n",
       "  </tbody>\n",
       "</table>\n",
       "</div>"
      ],
      "text/plain": [
       "        doid                name pathophysiology        source\n",
       "0  DOID:2531  hematologic cancer      neoplastic  DOcancerslim\n",
       "1  DOID:1319        brain cancer      neoplastic  DOcancerslim\n",
       "2  DOID:1324         lung cancer      neoplastic  DOcancerslim"
      ]
     },
     "execution_count": 3,
     "metadata": {},
     "output_type": "execute_result"
    }
   ],
   "source": [
    "# read the slim disease ontology terms\n",
    "path = os.path.join('data', 'slim-terms1.tsv')\n",
    "slim_df = pandas.read_table(path)\n",
    "slim_df[:3]"
   ]
  },
  {
   "cell_type": "code",
   "execution_count": 4,
   "metadata": {},
   "outputs": [
    {
     "data": {
      "text/html": [
       "<div>\n",
       "<style>\n",
       "    .dataframe thead tr:only-child th {\n",
       "        text-align: right;\n",
       "    }\n",
       "\n",
       "    .dataframe thead th {\n",
       "        text-align: left;\n",
       "    }\n",
       "\n",
       "    .dataframe tbody tr th {\n",
       "        vertical-align: top;\n",
       "    }\n",
       "</style>\n",
       "<table border=\"1\" class=\"dataframe\">\n",
       "  <thead>\n",
       "    <tr style=\"text-align: right;\">\n",
       "      <th></th>\n",
       "      <th>doid</th>\n",
       "      <th>name</th>\n",
       "      <th>pathophysiology</th>\n",
       "      <th>source</th>\n",
       "    </tr>\n",
       "  </thead>\n",
       "  <tbody>\n",
       "    <tr>\n",
       "      <th>55</th>\n",
       "      <td>DOID:9917</td>\n",
       "      <td>pleural cancer</td>\n",
       "      <td>neoplastic</td>\n",
       "      <td>DOcancerslim</td>\n",
       "    </tr>\n",
       "  </tbody>\n",
       "</table>\n",
       "</div>"
      ],
      "text/plain": [
       "         doid            name pathophysiology        source\n",
       "55  DOID:9917  pleural cancer      neoplastic  DOcancerslim"
      ]
     },
     "execution_count": 4,
     "metadata": {},
     "output_type": "execute_result"
    }
   ],
   "source": [
    "# check for terms that in slim but not in the DO\n",
    "all_doids = set(do.get_term_ids())\n",
    "slim_doids = set(slim_df.doid)\n",
    "unmatched = slim_doids - all_doids\n",
    "slim_doids &= all_doids\n",
    "slim_df.loc[slim_df.doid.isin(unmatched)]"
   ]
  },
  {
   "cell_type": "code",
   "execution_count": 9,
   "metadata": {},
   "outputs": [
    {
     "name": "stdout",
     "output_type": "stream",
     "text": [
      "Hodgkin's lymphoma {'hematologic cancer'}\n",
      "fibrolamellar carcinoma {'liver cancer'}\n",
      "hemolytic-uremic syndrome {'anemia'}\n",
      "autosomal dominant nocturnal frontal lobe epilepsy {'epilepsy'}\n",
      "nasopharynx carcinoma {'pharynx cancer'}\n",
      "pre-eclampsia {'hypertension'}\n",
      "extragonadal nonseminomatous germ cell tumor {'germ cell cancer'}\n",
      "uveal melanoma {'ocular cancer'}\n",
      "neuroblastoma {'peripheral nervous system neoplasm'}\n",
      "benign neonatal seizures {'epilepsy'}\n",
      "chordoid meningioma {'meningioma'}\n",
      "chronic lymphocytic leukemia {'hematologic cancer'}\n",
      "Fanconi anemia {'anemia'}\n",
      "acute lymphocytic leukemia {'hematologic cancer'}\n",
      "amyotrophic lateral sclerosis type 22 {'amyotrophic lateral sclerosis'}\n",
      "chordoma {'bone cancer'}\n",
      "essential hypertension {'hypertension'}\n",
      "cutaneous T cell lymphoma {'hematologic cancer'}\n",
      "age related macular degeneration {'macular degeneration'}\n",
      "essential thrombocythemia {'hematologic cancer'}\n",
      "embryonal rhabdomyosarcoma {'muscle cancer'}\n",
      "paroxysmal nocturnal hemoglobinuria {'anemia'}\n",
      "photosensitive epilepsy {'epilepsy'}\n",
      "lymphoplasmacytic lymphoma {'hematologic cancer'}\n",
      "hereditary spherocytosis {'anemia'}\n",
      "congenital nonspherocytic hemolytic anemia {'anemia'}\n",
      "familial hemiplegic migraine {'migraine'}\n",
      "benign familial infantile epilepsy {'epilepsy'}\n",
      "generalized epilepsy with febrile seizures plus {'epilepsy'}\n",
      "intracranial berry aneurysm {'intracranial aneurysm'}\n",
      "amyotrophic lateral sclerosis type 4 {'amyotrophic lateral sclerosis'}\n",
      "Diamond-Blackfan anemia {'anemia'}\n",
      "testicular germ cell cancer {'testicular cancer'}\n",
      "acute promyelocytic leukemia {'hematologic cancer'}\n",
      "juvenile myoclonic epilepsy {'epilepsy'}\n",
      "congenital dyserythropoietic anemia {'anemia'}\n",
      "juvenile rheumatoid arthritis {'rheumatoid arthritis'}\n"
     ]
    }
   ],
   "source": [
    "# check for node redundancy\n",
    "slim_terms = set(map(do.get_term, slim_doids))\n",
    "conflicting_terms = {}\n",
    "for term in slim_terms:\n",
    "    nodes_to_root = networkx.descendants(dox, term)\n",
    "    conflicts = {x.name for x in nodes_to_root & slim_terms}\n",
    "    if conflicts:\n",
    "        print(term.name, conflicts)\n",
    "        conflicting_terms[term.id] = conflicts"
   ]
  },
  {
   "cell_type": "markdown",
   "metadata": {},
   "source": [
    "Just keep the more general term"
   ]
  },
  {
   "cell_type": "code",
   "execution_count": 11,
   "metadata": {
    "collapsed": true
   },
   "outputs": [],
   "source": [
    "bad_terms = [k for k in conflicting_terms.keys()]\n",
    "slim_df = slim_df.query('doid not in @bad_terms').reset_index(drop=True)"
   ]
  },
  {
   "cell_type": "code",
   "execution_count": 12,
   "metadata": {
    "collapsed": true
   },
   "outputs": [],
   "source": [
    "path = os.path.join('data', 'xrefs.tsv')\n",
    "map_unprop_df = pandas.read_table(path)\n",
    "\n",
    "path = os.path.join('data', 'xrefs-prop.tsv')\n",
    "map_prop_df = pandas.read_table(path)"
   ]
  },
  {
   "cell_type": "code",
   "execution_count": 13,
   "metadata": {},
   "outputs": [
    {
     "data": {
      "text/html": [
       "<div>\n",
       "<style>\n",
       "    .dataframe thead tr:only-child th {\n",
       "        text-align: right;\n",
       "    }\n",
       "\n",
       "    .dataframe thead th {\n",
       "        text-align: left;\n",
       "    }\n",
       "\n",
       "    .dataframe tbody tr th {\n",
       "        vertical-align: top;\n",
       "    }\n",
       "</style>\n",
       "<table border=\"1\" class=\"dataframe\">\n",
       "  <thead>\n",
       "    <tr style=\"text-align: right;\">\n",
       "      <th></th>\n",
       "      <th>doid_code</th>\n",
       "      <th>doid_name</th>\n",
       "      <th>resource</th>\n",
       "      <th>resource_id</th>\n",
       "    </tr>\n",
       "  </thead>\n",
       "  <tbody>\n",
       "    <tr>\n",
       "      <th>0</th>\n",
       "      <td>DOID:2531</td>\n",
       "      <td>hematologic cancer</td>\n",
       "      <td>CSP</td>\n",
       "      <td>2004-1600</td>\n",
       "    </tr>\n",
       "    <tr>\n",
       "      <th>1</th>\n",
       "      <td>DOID:2531</td>\n",
       "      <td>hematologic cancer</td>\n",
       "      <td>CSP</td>\n",
       "      <td>2004-1803</td>\n",
       "    </tr>\n",
       "    <tr>\n",
       "      <th>2</th>\n",
       "      <td>DOID:2531</td>\n",
       "      <td>hematologic cancer</td>\n",
       "      <td>CSP</td>\n",
       "      <td>2004-2820</td>\n",
       "    </tr>\n",
       "  </tbody>\n",
       "</table>\n",
       "</div>"
      ],
      "text/plain": [
       "   doid_code           doid_name resource resource_id\n",
       "0  DOID:2531  hematologic cancer      CSP   2004-1600\n",
       "1  DOID:2531  hematologic cancer      CSP   2004-1803\n",
       "2  DOID:2531  hematologic cancer      CSP   2004-2820"
      ]
     },
     "execution_count": 13,
     "metadata": {},
     "output_type": "execute_result"
    }
   ],
   "source": [
    "slim_df = slim_df.rename(columns={'doid': 'doid_code'})\n",
    "slim_map_unprop_df = slim_df[['doid_code']].merge(map_unprop_df)\n",
    "slim_map_prop_df = slim_df[['doid_code']].merge(map_prop_df)\n",
    "slim_map_prop_df[:3]"
   ]
  },
  {
   "cell_type": "code",
   "execution_count": 14,
   "metadata": {
    "collapsed": true
   },
   "outputs": [],
   "source": [
    "path = os.path.join('data', 'xrefs-slim.tsv')\n",
    "slim_map_unprop_df.to_csv(path, sep='\\t', index=False)\n",
    "\n",
    "path = os.path.join('data', 'xrefs-prop-slim.tsv')\n",
    "slim_map_prop_df.to_csv(path, sep='\\t', index=False)"
   ]
  },
  {
   "cell_type": "code",
   "execution_count": 15,
   "metadata": {
    "collapsed": true
   },
   "outputs": [],
   "source": [
    "rows = list()\n",
    "for term in slim_terms:\n",
    "    subsumed = networkx.ancestors(dox, term)\n",
    "    row_part = [term.id, term.name]\n",
    "    rows.append(row_part + row_part + [0])\n",
    "    for subterm in subsumed:\n",
    "        distance = networkx.shortest_path_length(dox, subterm, term)\n",
    "        rows.append(row_part + [subterm.id, subterm.name, distance])\n",
    "rows.sort()\n",
    "\n",
    "slim_prop_df = pandas.DataFrame(rows, columns=['slim_id', 'slim_name', 'subsumed_id', 'subsumed_name', 'min_distance'])\n",
    "path = os.path.join('data', 'slim-terms-prop.tsv')\n",
    "slim_prop_df.to_csv(path, sep='\\t', index=False)"
   ]
  },
  {
   "cell_type": "code",
   "execution_count": 18,
   "metadata": {},
   "outputs": [
    {
     "name": "stdout",
     "output_type": "stream",
     "text": [
      "605 data/slim-terms1.tsv\r\n"
     ]
    }
   ],
   "source": [
    "! wc -l data/slim-terms1.tsv"
   ]
  }
 ],
 "metadata": {
  "kernelspec": {
   "display_name": "Python 3",
   "language": "python",
   "name": "python3"
  },
  "language_info": {
   "codemirror_mode": {
    "name": "ipython",
    "version": 3
   },
   "file_extension": ".py",
   "mimetype": "text/x-python",
   "name": "python",
   "nbconvert_exporter": "python",
   "pygments_lexer": "ipython3",
   "version": "3.5.4"
  }
 },
 "nbformat": 4,
 "nbformat_minor": 1
}
